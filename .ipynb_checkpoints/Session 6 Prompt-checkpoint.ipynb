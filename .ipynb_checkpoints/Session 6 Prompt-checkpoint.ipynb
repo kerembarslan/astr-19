{
 "cells": [
  {
   "cell_type": "code",
   "execution_count": 8,
   "id": "79aeb4db-c2c7-4ddd-86f8-05d8b29faf35",
   "metadata": {},
   "outputs": [],
   "source": [
    "import numpy as np\n",
    "import pandas as pd\n",
    "import math\n",
    "def calculate_sin(x):\n",
    "    return math.sin(x)\n",
    "\n",
    "def calculate_cos(x):\n",
    "    return math.cos(x)"
   ]
  },
  {
   "cell_type": "code",
   "execution_count": 9,
   "id": "63dd0749-326f-4538-80fa-c7f1145dbd62",
   "metadata": {},
   "outputs": [],
   "source": [
    "#used calculate_name to call upon the math function so that every time i ask for an x value it will use it in sin or cos and give the result back. "
   ]
  },
  {
   "cell_type": "code",
   "execution_count": 10,
   "id": "f81196db-43e6-4cb3-a0fe-565cc70a06b0",
   "metadata": {},
   "outputs": [],
   "source": [
    "x_value = np.linspace(0, 2*np.pi, 1000)\n",
    "\n",
    "sin_value = [calculate_sin(x) for x in x_value]\n",
    "\n",
    "cos_value = [calculate_cos(x) for x in x_value]\n"
   ]
  },
  {
   "cell_type": "code",
   "execution_count": 11,
   "id": "20d49161-4c96-470e-b523-2f0f83eb424a",
   "metadata": {},
   "outputs": [
    {
     "name": "stdout",
     "output_type": "stream",
     "text": [
      "sin(x)|cos(x)\n",
      "-------------\n",
      "0.0000|1.0000\n",
      "0.0063|1.0000\n",
      "0.0126|0.9999\n",
      "0.0189|0.9998\n",
      "0.0252|0.9997\n",
      "0.0314|0.9995\n",
      "0.0377|0.9993\n",
      "0.0440|0.9990\n",
      "0.0503|0.9987\n",
      "0.0566|0.9984\n"
     ]
    }
   ],
   "source": [
    "print(\"sin(x)|cos(x)\")\n",
    "print(\"-------------\")\n",
    "\n",
    "for i in range(10):\n",
    "    print(f\"{sin_value[i]:.4f}|{cos_value[i]:.4f}\")"
   ]
  },
  {
   "cell_type": "code",
   "execution_count": null,
   "id": "d5065b12-5f80-42dd-b3ff-f973a0203bf9",
   "metadata": {},
   "outputs": [],
   "source": []
  },
  {
   "cell_type": "code",
   "execution_count": null,
   "id": "185681e5-8f8b-43d1-bd83-0802701a907f",
   "metadata": {},
   "outputs": [],
   "source": []
  }
 ],
 "metadata": {
  "kernelspec": {
   "display_name": "Python 3 (ipykernel)",
   "language": "python",
   "name": "python3"
  },
  "language_info": {
   "codemirror_mode": {
    "name": "ipython",
    "version": 3
   },
   "file_extension": ".py",
   "mimetype": "text/x-python",
   "name": "python",
   "nbconvert_exporter": "python",
   "pygments_lexer": "ipython3",
   "version": "3.11.5"
  }
 },
 "nbformat": 4,
 "nbformat_minor": 5
}
