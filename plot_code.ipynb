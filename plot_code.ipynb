{
 "cells": [
  {
   "cell_type": "code",
   "execution_count": null,
   "id": "2112a53e-9c67-40c3-bcc6-0b20229b7f02",
   "metadata": {},
   "outputs": [],
   "source": [
    "import numpy as np\n",
    "import matplotlib.pyplot as plt\n",
    "from matplotlib.ticker import MultipleLocator\n",
    "\n",
    "# define plot\n",
    "def scatter_plot(x, y,\n",
    "                 flag_save=True,    # save the figure?\n",
    "                 xlabel='Day of the Year',        # x-axis label\n",
    "                 ylabel='Tide Height(ft)',        # y-axis label\n",
    "                 lcolor='blue',      # line color\n",
    "                 pcolor='black',     # point color\n",
    "                 fs=14,             # font size\n",
    "                 fname='test_group.png'):  # default plot filename\n",
    "\n",
    "    # By default, flag_save = True, and we'll save the figure\n",
    "    # to a file. The plot filename fname = 'plot.png' by\n",
    "    # Define figure and axis\n",
    "    f, ax = plt.subplots(1, 1, figsize=(20, 12))\n",
    "\n",
    "    ax.grid(True)\n",
    "\n",
    "    ax.xaxis.set_tick_params(which='major', direction='in')\n",
    "\n",
    "    ax.xaxis.set_major_locator(MultipleLocator(1.))\n",
    "\n",
    "    ax.yaxis.set_minor_locator(MultipleLocator(0.3))\n",
    "\n",
    "    # Plot y vs. x\n",
    "    ax.plot(x, y, color=lcolor, linewidth=1.5, label='Tidal Movements')  # a line\n",
    "    ax.errorbar(x, y, fmt='o', color=pcolor, markersize=5, label='Recorded tide value')  # circles\n",
    "\n",
    "    # Label our axes\n",
    "    ax.set_xlabel(xlabel, fontsize=fs)\n",
    "    ax.set_ylabel(ylabel, fontsize=fs)\n",
    "\n",
    "    ax.set_xlim(0, 42)\n",
    "    ax.set_ylim(-2, 8)\n",
    "\n",
    "    # Create a legend without a frame\n",
    "    # in the upper left-hand corner\n",
    "    ax.legend(loc='upper left', frameon=False)\n",
    "for xi, yi, time in zip(x, y, annotations):\n",
    "        plt.annotate(f'{time}',\n",
    "                     xy=(xi, yi), xycoords='data',\n",
    "                     xytext=(0, 8), textcoords='offset points')\n",
    "\n",
    "    # Save the plot?\n",
    "if flag_save:\n",
    "    plt.savefig(fname='grouo', bbox_inches='tight', dpi=400)\n",
    "\n",
    "print('Making a plot...') \n",
    "scatter_plot(x, y)"
   ]
  }
 ],
 "metadata": {
  "kernelspec": {
   "display_name": "Python 3 (ipykernel)",
   "language": "python",
   "name": "python3"
  },
  "language_info": {
   "codemirror_mode": {
    "name": "ipython",
    "version": 3
   },
   "file_extension": ".py",
   "mimetype": "text/x-python",
   "name": "python",
   "nbconvert_exporter": "python",
   "pygments_lexer": "ipython3",
   "version": "3.11.5"
  }
 },
 "nbformat": 4,
 "nbformat_minor": 5
}
