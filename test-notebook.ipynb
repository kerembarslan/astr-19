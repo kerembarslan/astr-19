{
 "cells": [
  {
   "cell_type": "code",
   "execution_count": 2,
   "id": "22d8dab1-44d5-4238-b563-1c7bf2315f67",
   "metadata": {},
   "outputs": [
    {
     "data": {
      "text/plain": [
       "6.008383903739986"
      ]
     },
     "execution_count": 2,
     "metadata": {},
     "output_type": "execute_result"
    }
   ],
   "source": [
    "6+110023/13123123"
   ]
  },
  {
   "cell_type": "code",
   "execution_count": 3,
   "id": "0fa67939-6dcb-43de-9a84-304ca86bd837",
   "metadata": {},
   "outputs": [],
   "source": [
    "def hello():\n",
    "    print('helllo bro')"
   ]
  },
  {
   "cell_type": "code",
   "execution_count": 4,
   "id": "2d3d4b3e-e238-46a0-bf8f-8cafdd76dac6",
   "metadata": {},
   "outputs": [
    {
     "name": "stdout",
     "output_type": "stream",
     "text": [
      "helllo bro\n"
     ]
    }
   ],
   "source": [
    "hello()"
   ]
  },
  {
   "cell_type": "code",
   "execution_count": 5,
   "id": "11e4f31f-5282-4d0c-9b05-cefd8a51e244",
   "metadata": {},
   "outputs": [],
   "source": [
    "l = 'kerem'\n",
    "m = 5"
   ]
  },
  {
   "cell_type": "code",
   "execution_count": 6,
   "id": "4d9d83ec-aced-422f-8720-d1943cebf7e0",
   "metadata": {},
   "outputs": [
    {
     "data": {
      "text/plain": [
       "str"
      ]
     },
     "execution_count": 6,
     "metadata": {},
     "output_type": "execute_result"
    }
   ],
   "source": [
    "type(l)"
   ]
  },
  {
   "cell_type": "code",
   "execution_count": 7,
   "id": "68b64e4d-8225-474d-9bed-4898b3ef4149",
   "metadata": {},
   "outputs": [
    {
     "data": {
      "text/plain": [
       "int"
      ]
     },
     "execution_count": 7,
     "metadata": {},
     "output_type": "execute_result"
    }
   ],
   "source": [
    "type(m)"
   ]
  },
  {
   "cell_type": "code",
   "execution_count": 8,
   "id": "45a9f038-a021-4be3-971c-8581423eb8f8",
   "metadata": {},
   "outputs": [],
   "source": [
    "k =[1,'a',2,5]"
   ]
  },
  {
   "cell_type": "code",
   "execution_count": 9,
   "id": "931a1a91-cdbb-4fbe-aa7a-acaf855cc2f1",
   "metadata": {},
   "outputs": [
    {
     "data": {
      "text/plain": [
       "list"
      ]
     },
     "execution_count": 9,
     "metadata": {},
     "output_type": "execute_result"
    }
   ],
   "source": [
    "type(k)"
   ]
  },
  {
   "cell_type": "code",
   "execution_count": 10,
   "id": "ec598941-392c-4f10-88eb-2479be01c470",
   "metadata": {},
   "outputs": [],
   "source": [
    "j = .444"
   ]
  },
  {
   "cell_type": "code",
   "execution_count": 11,
   "id": "88ff5073-31b3-4f77-8247-4a549e47138f",
   "metadata": {},
   "outputs": [
    {
     "data": {
      "text/plain": [
       "float"
      ]
     },
     "execution_count": 11,
     "metadata": {},
     "output_type": "execute_result"
    }
   ],
   "source": [
    "type(j)"
   ]
  },
  {
   "cell_type": "code",
   "execution_count": 12,
   "id": "e2e5299b-bbdb-482f-bc60-3f3930cecf1d",
   "metadata": {},
   "outputs": [
    {
     "data": {
      "text/plain": [
       "5.444"
      ]
     },
     "execution_count": 12,
     "metadata": {},
     "output_type": "execute_result"
    }
   ],
   "source": [
    "j+m"
   ]
  },
  {
   "cell_type": "code",
   "execution_count": 32,
   "id": "c5b7752e-733c-488b-83f9-91739b0a11fb",
   "metadata": {},
   "outputs": [],
   "source": [
    "def sum_two(a,b):\n",
    "    print(f'calculating sum {a}+{b}...')\n",
    "    return a+b"
   ]
  },
  {
   "cell_type": "code",
   "execution_count": 33,
   "id": "1e3ee07f-cc90-478b-800d-df0f37ef3413",
   "metadata": {},
   "outputs": [
    {
     "name": "stdout",
     "output_type": "stream",
     "text": [
      "calculating sum 5+4...\n"
     ]
    },
    {
     "data": {
      "text/plain": [
       "9"
      ]
     },
     "execution_count": 33,
     "metadata": {},
     "output_type": "execute_result"
    }
   ],
   "source": [
    "sum_two(5,4)"
   ]
  },
  {
   "cell_type": "code",
   "execution_count": null,
   "id": "a02f5fc2-fa39-4f48-b8b5-165d22642d1c",
   "metadata": {},
   "outputs": [],
   "source": []
  }
 ],
 "metadata": {
  "kernelspec": {
   "display_name": "Python 3 (ipykernel)",
   "language": "python",
   "name": "python3"
  },
  "language_info": {
   "codemirror_mode": {
    "name": "ipython",
    "version": 3
   },
   "file_extension": ".py",
   "mimetype": "text/x-python",
   "name": "python",
   "nbconvert_exporter": "python",
   "pygments_lexer": "ipython3",
   "version": "3.11.5"
  }
 },
 "nbformat": 4,
 "nbformat_minor": 5
}
