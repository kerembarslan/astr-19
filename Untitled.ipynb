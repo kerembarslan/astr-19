{
 "cells": [
  {
   "cell_type": "code",
   "execution_count": 3,
   "id": "9e5b6c09-1da5-43f4-8ac2-62195c5db43f",
   "metadata": {},
   "outputs": [
    {
     "name": "stdout",
     "output_type": "stream",
     "text": [
      "The result of f(9) is 737\n",
      "YAY!\n"
     ]
    }
   ],
   "source": [
    "# write function f(x) taht returns x**3 + 8\n",
    "\n",
    "def f(x):\n",
    "\treturn x**3 + 8\n",
    "\n",
    "# now define and start main function \n",
    "\n",
    "def main():\n",
    "\tx = 9\n",
    "\tresult_of_function = f(x)\n",
    "\n",
    "\tprint(f\"The result of f({x}) is {result_of_function}\")\n",
    "\n",
    "\tif result_of_function > 27:\n",
    "\t\tprint(\"YAY!\")\n",
    "\n",
    "if __name__ == \"__main__\":\n",
    "\tmain()"
   ]
  },
  {
   "cell_type": "code",
   "execution_count": 12,
   "id": "3b84cd34-7706-454a-a8d2-57c151517096",
   "metadata": {},
   "outputs": [
    {
     "name": "stdout",
     "output_type": "stream",
     "text": [
      "My favorite animal's characteristics:\n",
      "Arm Length: 2.5 units\n",
      "Leg Length: 3.0 units\n",
      "Number of Eyes: 2\n",
      "It has a tail.\n",
      "It is furry.\n"
     ]
    }
   ],
   "source": [
    "class FavoriteAnimal:   \n",
    "    def __init__(my, arm_length: float, leg_length: float, num_eyes: int, has_tail: bool, is_furry: bool):\n",
    "        my.arm_length = arm_length\n",
    "        my.leg_length = leg_length \n",
    "        my.num_eyes = num_eyes\n",
    "        my.has_tail = has_tail\n",
    "        my.is_furry = is_furry \n",
    "\n",
    "    def describe(my):\n",
    "        print(\"My favorite animal's characteristics:\")\n",
    "        print(f\"Arm Length: {my.arm_length} units\")\n",
    "        print(f\"Leg Length: {my.leg_length} units\")\n",
    "        print(f\"Number of Eyes: {my.num_eyes}\")\n",
    "        if my.has_tail:\n",
    "            print(\"It has a tail.\")\n",
    "        else:\n",
    "            print(\"It does not have a tail.\")\n",
    "        if my.is_furry:\n",
    "            print(\"It is furry.\")\n",
    "        else:\n",
    "            print(\"It is not furry.\")\n",
    "\n",
    "my_favorite_animal = FavoriteAnimal(6.0, 6.0, 2, True, True)\n",
    "\n",
    "my_favorite_animal.describe()"
   ]
  },
  {
   "cell_type": "code",
   "execution_count": null,
   "id": "7fcd29e0-d720-4121-8280-e71cf8a558e0",
   "metadata": {},
   "outputs": [],
   "source": []
  }
 ],
 "metadata": {
  "kernelspec": {
   "display_name": "Python 3 (ipykernel)",
   "language": "python",
   "name": "python3"
  },
  "language_info": {
   "codemirror_mode": {
    "name": "ipython",
    "version": 3
   },
   "file_extension": ".py",
   "mimetype": "text/x-python",
   "name": "python",
   "nbconvert_exporter": "python",
   "pygments_lexer": "ipython3",
   "version": "3.11.5"
  }
 },
 "nbformat": 4,
 "nbformat_minor": 5
}
